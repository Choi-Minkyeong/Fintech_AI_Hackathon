{
  "nbformat": 4,
  "nbformat_minor": 0,
  "metadata": {
    "colab": {
      "name": "Card_Predict의 사본",
      "provenance": [],
      "collapsed_sections": []
    },
    "kernelspec": {
      "name": "python3",
      "display_name": "Python 3"
    },
    "accelerator": "GPU"
  },
  "cells": [
    {
      "cell_type": "code",
      "metadata": {
        "id": "2494ezR3PHyl",
        "colab_type": "code",
        "colab": {
          "base_uri": "https://localhost:8080/",
          "height": 134
        },
        "outputId": "7809d6fe-ab66-4ce1-c548-e5da000fb127"
      },
      "source": [
        "이from google.colab import drive\n",
        "drive.mount('/content/drive')"
      ],
      "execution_count": null,
      "outputs": [
        {
          "output_type": "error",
          "ename": "SyntaxError",
          "evalue": "ignored",
          "traceback": [
            "\u001b[0;36m  File \u001b[0;32m\"<ipython-input-2-c0aa73eba6d3>\"\u001b[0;36m, line \u001b[0;32m1\u001b[0m\n\u001b[0;31m    이from google.colab import drive\u001b[0m\n\u001b[0m               ^\u001b[0m\n\u001b[0;31mSyntaxError\u001b[0m\u001b[0;31m:\u001b[0m invalid syntax\n"
          ]
        }
      ]
    },
    {
      "cell_type": "code",
      "metadata": {
        "id": "braoiuT6v2sh",
        "colab_type": "code",
        "colab": {
          "base_uri": "https://localhost:8080/",
          "height": 126
        },
        "outputId": "65b55d84-efa2-4cab-9dc0-2db43d878a53"
      },
      "source": [
        "from google.colab import drive\n",
        "drive.mount('/content/drive')"
      ],
      "execution_count": null,
      "outputs": [
        {
          "output_type": "stream",
          "text": [
            "Go to this URL in a browser: https://accounts.google.com/o/oauth2/auth?client_id=947318989803-6bn6qk8qdgf4n4g3pfee6491hc0brc4i.apps.googleusercontent.com&redirect_uri=urn%3aietf%3awg%3aoauth%3a2.0%3aoob&scope=email%20https%3a%2f%2fwww.googleapis.com%2fauth%2fdocs.test%20https%3a%2f%2fwww.googleapis.com%2fauth%2fdrive%20https%3a%2f%2fwww.googleapis.com%2fauth%2fdrive.photos.readonly%20https%3a%2f%2fwww.googleapis.com%2fauth%2fpeopleapi.readonly&response_type=code\n",
            "\n",
            "Enter your authorization code:\n",
            "··········\n",
            "Mounted at /content/drive\n"
          ],
          "name": "stdout"
        }
      ]
    },
    {
      "cell_type": "code",
      "metadata": {
        "id": "30_gwFrpfyqJ",
        "colab_type": "code",
        "colab": {
          "base_uri": "https://localhost:8080/",
          "height": 35
        },
        "outputId": "9727ed4d-50b5-4fde-d7b4-795abffb2476"
      },
      "source": [
        "import tensorflow as tf\n",
        "tf.__version__"
      ],
      "execution_count": null,
      "outputs": [
        {
          "output_type": "execute_result",
          "data": {
            "application/vnd.google.colaboratory.intrinsic+json": {
              "type": "string"
            },
            "text/plain": [
              "'2.3.0'"
            ]
          },
          "metadata": {
            "tags": []
          },
          "execution_count": 4
        }
      ]
    },
    {
      "cell_type": "code",
      "metadata": {
        "id": "7Mq4rvbuWRVb",
        "colab_type": "code",
        "colab": {
          "base_uri": "https://localhost:8080/",
          "height": 248
        },
        "outputId": "21fca062-6646-43c0-bf28-160f79c6cb18"
      },
      "source": [
        "if tf.__version__ != '1.15.0':\n",
        "    !pip uninstall tensorflow"
      ],
      "execution_count": null,
      "outputs": [
        {
          "output_type": "stream",
          "text": [
            "Uninstalling tensorflow-2.3.0:\n",
            "  Would remove:\n",
            "    /usr/local/bin/estimator_ckpt_converter\n",
            "    /usr/local/bin/saved_model_cli\n",
            "    /usr/local/bin/tensorboard\n",
            "    /usr/local/bin/tf_upgrade_v2\n",
            "    /usr/local/bin/tflite_convert\n",
            "    /usr/local/bin/toco\n",
            "    /usr/local/bin/toco_from_protos\n",
            "    /usr/local/lib/python3.6/dist-packages/tensorflow-2.3.0.dist-info/*\n",
            "    /usr/local/lib/python3.6/dist-packages/tensorflow/*\n",
            "Proceed (y/n)? y\n",
            "  Successfully uninstalled tensorflow-2.3.0\n"
          ],
          "name": "stdout"
        }
      ]
    },
    {
      "cell_type": "code",
      "metadata": {
        "id": "_-1MgeasWROh",
        "colab_type": "code",
        "colab": {
          "base_uri": "https://localhost:8080/",
          "height": 998
        },
        "outputId": "dcca688a-6cae-49ce-83fc-3de202baa231"
      },
      "source": [
        "!pip install tensorflow==1.15.0"
      ],
      "execution_count": null,
      "outputs": [
        {
          "output_type": "stream",
          "text": [
            "Collecting tensorflow==1.15.0\n",
            "\u001b[?25l  Downloading https://files.pythonhosted.org/packages/3f/98/5a99af92fb911d7a88a0005ad55005f35b4c1ba8d75fba02df726cd936e6/tensorflow-1.15.0-cp36-cp36m-manylinux2010_x86_64.whl (412.3MB)\n",
            "\u001b[K     |████████████████████████████████| 412.3MB 28kB/s \n",
            "\u001b[?25hRequirement already satisfied: numpy<2.0,>=1.16.0 in /usr/local/lib/python3.6/dist-packages (from tensorflow==1.15.0) (1.18.5)\n",
            "Requirement already satisfied: six>=1.10.0 in /usr/local/lib/python3.6/dist-packages (from tensorflow==1.15.0) (1.15.0)\n",
            "Collecting tensorboard<1.16.0,>=1.15.0\n",
            "\u001b[?25l  Downloading https://files.pythonhosted.org/packages/1e/e9/d3d747a97f7188f48aa5eda486907f3b345cd409f0a0850468ba867db246/tensorboard-1.15.0-py3-none-any.whl (3.8MB)\n",
            "\u001b[K     |████████████████████████████████| 3.8MB 41.7MB/s \n",
            "\u001b[?25hRequirement already satisfied: termcolor>=1.1.0 in /usr/local/lib/python3.6/dist-packages (from tensorflow==1.15.0) (1.1.0)\n",
            "Requirement already satisfied: keras-preprocessing>=1.0.5 in /usr/local/lib/python3.6/dist-packages (from tensorflow==1.15.0) (1.1.2)\n",
            "Collecting gast==0.2.2\n",
            "  Downloading https://files.pythonhosted.org/packages/4e/35/11749bf99b2d4e3cceb4d55ca22590b0d7c2c62b9de38ac4a4a7f4687421/gast-0.2.2.tar.gz\n",
            "Requirement already satisfied: absl-py>=0.7.0 in /usr/local/lib/python3.6/dist-packages (from tensorflow==1.15.0) (0.8.1)\n",
            "Requirement already satisfied: wrapt>=1.11.1 in /usr/local/lib/python3.6/dist-packages (from tensorflow==1.15.0) (1.12.1)\n",
            "Collecting tensorflow-estimator==1.15.1\n",
            "\u001b[?25l  Downloading https://files.pythonhosted.org/packages/de/62/2ee9cd74c9fa2fa450877847ba560b260f5d0fb70ee0595203082dafcc9d/tensorflow_estimator-1.15.1-py2.py3-none-any.whl (503kB)\n",
            "\u001b[K     |████████████████████████████████| 512kB 16.6MB/s \n",
            "\u001b[?25hRequirement already satisfied: google-pasta>=0.1.6 in /usr/local/lib/python3.6/dist-packages (from tensorflow==1.15.0) (0.2.0)\n",
            "Requirement already satisfied: opt-einsum>=2.3.2 in /usr/local/lib/python3.6/dist-packages (from tensorflow==1.15.0) (3.3.0)\n",
            "Requirement already satisfied: grpcio>=1.8.6 in /usr/local/lib/python3.6/dist-packages (from tensorflow==1.15.0) (1.31.0)\n",
            "Requirement already satisfied: protobuf>=3.6.1 in /usr/local/lib/python3.6/dist-packages (from tensorflow==1.15.0) (3.12.4)\n",
            "Requirement already satisfied: wheel>=0.26 in /usr/local/lib/python3.6/dist-packages (from tensorflow==1.15.0) (0.35.1)\n",
            "Requirement already satisfied: astor>=0.6.0 in /usr/local/lib/python3.6/dist-packages (from tensorflow==1.15.0) (0.8.1)\n",
            "Collecting keras-applications>=1.0.8\n",
            "\u001b[?25l  Downloading https://files.pythonhosted.org/packages/71/e3/19762fdfc62877ae9102edf6342d71b28fbfd9dea3d2f96a882ce099b03f/Keras_Applications-1.0.8-py3-none-any.whl (50kB)\n",
            "\u001b[K     |████████████████████████████████| 51kB 5.7MB/s \n",
            "\u001b[?25hRequirement already satisfied: markdown>=2.6.8 in /usr/local/lib/python3.6/dist-packages (from tensorboard<1.16.0,>=1.15.0->tensorflow==1.15.0) (3.2.2)\n",
            "Requirement already satisfied: werkzeug>=0.11.15 in /usr/local/lib/python3.6/dist-packages (from tensorboard<1.16.0,>=1.15.0->tensorflow==1.15.0) (1.0.1)\n",
            "Requirement already satisfied: setuptools>=41.0.0 in /usr/local/lib/python3.6/dist-packages (from tensorboard<1.16.0,>=1.15.0->tensorflow==1.15.0) (49.6.0)\n",
            "Requirement already satisfied: h5py in /usr/local/lib/python3.6/dist-packages (from keras-applications>=1.0.8->tensorflow==1.15.0) (2.10.0)\n",
            "Requirement already satisfied: importlib-metadata; python_version < \"3.8\" in /usr/local/lib/python3.6/dist-packages (from markdown>=2.6.8->tensorboard<1.16.0,>=1.15.0->tensorflow==1.15.0) (1.7.0)\n",
            "Requirement already satisfied: zipp>=0.5 in /usr/local/lib/python3.6/dist-packages (from importlib-metadata; python_version < \"3.8\"->markdown>=2.6.8->tensorboard<1.16.0,>=1.15.0->tensorflow==1.15.0) (3.1.0)\n",
            "Building wheels for collected packages: gast\n",
            "  Building wheel for gast (setup.py) ... \u001b[?25l\u001b[?25hdone\n",
            "  Created wheel for gast: filename=gast-0.2.2-cp36-none-any.whl size=7542 sha256=52afef237435ddcfd99639f023c0da75a4d201135a86033b58396f5a7cc932c8\n",
            "  Stored in directory: /root/.cache/pip/wheels/5c/2e/7e/a1d4d4fcebe6c381f378ce7743a3ced3699feb89bcfbdadadd\n",
            "Successfully built gast\n",
            "\u001b[31mERROR: tensorflow-probability 0.11.0 has requirement gast>=0.3.2, but you'll have gast 0.2.2 which is incompatible.\u001b[0m\n",
            "Installing collected packages: tensorboard, gast, tensorflow-estimator, keras-applications, tensorflow\n",
            "  Found existing installation: tensorboard 2.3.0\n",
            "    Uninstalling tensorboard-2.3.0:\n",
            "      Successfully uninstalled tensorboard-2.3.0\n",
            "  Found existing installation: gast 0.3.3\n",
            "    Uninstalling gast-0.3.3:\n",
            "      Successfully uninstalled gast-0.3.3\n",
            "  Found existing installation: tensorflow-estimator 2.3.0\n",
            "    Uninstalling tensorflow-estimator-2.3.0:\n",
            "      Successfully uninstalled tensorflow-estimator-2.3.0\n",
            "Successfully installed gast-0.2.2 keras-applications-1.0.8 tensorboard-1.15.0 tensorflow-1.15.0 tensorflow-estimator-1.15.1\n"
          ],
          "name": "stdout"
        },
        {
          "output_type": "display_data",
          "data": {
            "application/vnd.colab-display-data+json": {
              "pip_warning": {
                "packages": [
                  "gast",
                  "tensorboard",
                  "tensorflow"
                ]
              }
            }
          },
          "metadata": {
            "tags": []
          }
        }
      ]
    },
    {
      "cell_type": "code",
      "metadata": {
        "id": "zAm36pk-AsSW",
        "colab_type": "code",
        "colab": {
          "base_uri": "https://localhost:8080/",
          "height": 1000
        },
        "outputId": "414e1d3a-1a0d-4bbe-9ac9-1a074ece41a2"
      },
      "source": [
        "import pandas as pd\n",
        "import tensorflow as tf\n",
        "import numpy as np\n",
        "import matplotlib\n",
        "import os\n",
        "import csv\n",
        "import matplotlib.pyplot as plt\n",
        "\n",
        "# 랜덤에 의해 똑같은 결과를 재현하도록 시드 설정\n",
        "# 하이퍼파라미터를 튜닝하기 위한 용도(흔들리면 무엇때문에 좋아졌는지 알기 어려움)\n",
        "tf.set_random_seed(777)\n",
        "\n",
        "# 하이퍼파라미터\n",
        "input_data_column_cnt = 5  # 입력데이터의 컬럼 개수(Variable 개수)\n",
        "output_data_column_cnt = 1 # 결과데이터의 컬럼 개수\n",
        "\n",
        "seq_length=3           # 1개의 시퀀스의 길이(시게열데이터 입력 개수)\n",
        "rnn_cell_hidden_dim=8 # 각 셀의 출력 크기\n",
        "forget_bias=1.0        # 망각편향(기본값 1.0)\n",
        "num_stacked_layers=1   # LSTM 개수\n",
        "keep_prob=1.0          # dropout할 때 keep할 비율\n",
        "\n",
        "epoch_num=1000     # 에폭 횟수(학습용 전체 데이터를 몇 회 반복해서 학습할 것인가 입력))\n",
        "learning_rate=0.01\n",
        "\n",
        "def MinMaxScaler(data):\n",
        "  #데이터 모든 숫자들의 최소 값만큼 뺀다.\n",
        "  numerator=data-np.min(data,0)\n",
        "  #최대값과 최소 값의 차이를 구한다.\n",
        "  denominator=np.max(data,0)-np.min(data,0)\n",
        "  result=numerator/(denominator)\n",
        "  return result\n",
        "\n",
        "def data_change(x):\n",
        "  x_data=[]\n",
        "\n",
        "  for i in range(len(x[:])):\n",
        "\n",
        "    if(i==0):\n",
        "      init=100+100*x[i]/100\n",
        "      x_data.append([init[0]])\n",
        "      \n",
        "    else:\n",
        "      init=init+init*x[i]/100\n",
        "      x_data.append([init[0]])\n",
        "    \n",
        "  return x_data\n",
        "\n",
        "\n",
        "# Standardization\n",
        "def data_standardization(x):\n",
        "    x_np = np.asarray(x)\n",
        "    return (x_np - x_np.mean()) / x_np.std()\n",
        "\n",
        "def reverse_data_standardization(org_x, x):\n",
        "    org_x_np = np.asarray(org_x)\n",
        "    x_np = np.asarray(x)\n",
        "    return ((x_np * org_x_np.std()) + org_x_np.mean())\n",
        "\n",
        "# 너무 작거나 너무 큰 값이 학습을 방해하는 것을 방지하고자 정규화한다\n",
        "# x가 양수라는 가정하에 최소값과 최대값을 이용하여 0~1사이의 값으로 변환\n",
        "# Min-Max scaling\n",
        "def min_max_scaling(x):\n",
        "    x_np = np.asarray(x)\n",
        "    return (x_np - x_np.min()) / (x_np.max() - x_np.min() + 1e-7) # 1e-7은 0으로 나누는 오류 예방차원\n",
        "\n",
        "# 정규화된 값을 원래의 값으로 되돌린다\n",
        "# 정규화하기 이전의 org_x값과 되돌리고 싶은 x를 입력하면 역정규화된 값을 리턴한다\n",
        "def reverse_min_max_scaling(org_x, x):\n",
        "    org_x_np = np.asarray(org_x)\n",
        "    x_np = np.asarray(x)\n",
        "    return (x_np * (org_x_np.max() - org_x_np.min() + 1e-7)) + org_x_np.min()\n",
        "\n",
        "\n",
        "card=pd.read_csv('/content/drive/My Drive/카드경제지표.csv', encoding='UTF-8')\n",
        "card_np=card.values\n",
        "x=card_np[:,[1,2,3,4,5]]\n",
        "y=card_np[:,[1]]\n",
        "price=card_np[:,[1]]\n",
        "\n",
        "#x=min_max_scaling(x)\n",
        "#y=min_max_scaling(y)\n",
        "\n",
        "x_1=data_change(x[:,[1]])\n",
        "x_2=data_change(x[:,[2]])\n",
        "x_3=data_change(x[:,[3]])\n",
        "x_4=data_change(x[:,[4]])\n",
        "x = np.concatenate((x,x_1,x_2,x_3,x_4), axis=1) \n",
        "\n",
        "x=x[:,[0,5,6,7,8]]\n",
        "\n",
        "print(x)\n",
        "print(y)\n",
        "\n",
        "x=MinMaxScaler(x)\n",
        "y=MinMaxScaler(y)\n",
        "\n",
        "\n",
        "print(x[0])\n",
        "print('--')\n",
        "print(y[0])\n",
        "print('--')\n",
        "\n",
        "dataX=[]\n",
        "dataY=[]\n",
        "\n",
        "for i in range(0, len(y)-seq_length):\n",
        "  _x=x[i:i+seq_length]\n",
        "  _y=y[i+seq_length]    #다음 달 소비 예측\n",
        "\n",
        "  if i is 0:\n",
        "    print(_x, \"->\", _y)\n",
        "    print(\" -- \")\n",
        "\n",
        "  dataX.append(_x)\n",
        "  dataY.append(_y)\n",
        "\n",
        "# 학습용/테스트용 데이터 생성\n",
        "# 전체 70%를 학습용 데이터로 사용\n",
        "train_size = int(len(dataY) * 0.7)\n",
        "# 나머지(30%)를 테스트용 데이터로 사용\n",
        "test_size = len(dataY) - train_size\n",
        " \n",
        "# 데이터를 잘라 학습용 데이터 생성\n",
        "trainX = np.array(dataX[0:train_size])\n",
        "trainY = np.array(dataY[0:train_size])\n",
        " \n",
        "# 데이터를 잘라 테스트용 데이터 생성\n",
        "testX = np.array(dataX[train_size:len(dataX)])\n",
        "testY = np.array(dataY[train_size:len(dataY)])\n",
        "\n",
        "# 텐서플로우 플레이스홀더 생성\n",
        "# 입력 X, 출력 Y를 생성한다\n",
        "X = tf.placeholder(tf.float32, [None, seq_length, input_data_column_cnt])\n",
        "print(\"X: \", X)\n",
        "Y = tf.placeholder(tf.float32, [None, 1])\n",
        "print(\"Y: \", Y)\n",
        " \n",
        "# 검증용 측정지표를 산출하기 위한 targets, predictions를 생성한다\n",
        "targets = tf.placeholder(tf.float32, [None, 1])\n",
        "print(\"targets: \", targets)\n",
        " \n",
        "predictions = tf.placeholder(tf.float32, [None, 1])\n",
        "print(\"predictions: \", predictions)\n",
        "\n",
        "# 모델(LSTM 네트워크) 생성\n",
        "def lstm_cell():\n",
        "    # LSTM셀을 생성\n",
        "    # num_units: 각 Cell 출력 크기\n",
        "    # forget_bias:  to the biases of the forget gate \n",
        "    #              (default: 1)  in order to reduce the scale of forgetting in the beginning of the training.\n",
        "    # state_is_tuple: True ==> accepted and returned states are 2-tuples of the c_state and m_state.\n",
        "    # state_is_tuple: False ==> they are concatenated along the column axis.\n",
        "    cell = tf.contrib.rnn.BasicLSTMCell(num_units=rnn_cell_hidden_dim, \n",
        "                                        forget_bias=forget_bias, state_is_tuple=True, activation=tf.nn.softsign)\n",
        "    if keep_prob < 1.0:\n",
        "        cell = tf.contrib.rnn.DropoutWrapper(cell, output_keep_prob=keep_prob)\n",
        "    return cell\n",
        "\n",
        "# num_stacked_layers개의 층으로 쌓인 Stacked RNNs 생성\n",
        "stackedRNNs = [lstm_cell() for _ in range(num_stacked_layers)]\n",
        "multi_cells = tf.contrib.rnn.MultiRNNCell(stackedRNNs, state_is_tuple=True) if num_stacked_layers > 1 else lstm_cell()\n",
        "\n",
        "# RNN Cell(여기서는 LSTM셀임)들을 연결\n",
        "hypothesis, _states = tf.nn.dynamic_rnn(multi_cells, X, dtype=tf.float32)\n",
        "print(\"hypothesis: \", hypothesis)\n",
        "\n",
        "# [:, -1]를 잘 살펴보자. LSTM RNN의 마지막 (hidden)출력만을 사용했다.\n",
        "# 과거 여러 거래일의 주가를 이용해서 다음날의 주가 1개를 예측하기때문에 MANY-TO-ONE형태이다\n",
        "hypothesis = tf.contrib.layers.fully_connected(hypothesis[:, -1], output_data_column_cnt, activation_fn=tf.identity)\n",
        "\n",
        "# 손실함수로 평균제곱오차를 사용한다\n",
        "loss = tf.reduce_sum(tf.square(hypothesis - Y))\n",
        "# 최적화함수로 AdamOptimizer를 사용한다\n",
        "optimizer = tf.train.AdamOptimizer(learning_rate)\n",
        "# optimizer = tf.train.RMSPropOptimizer(learning_rate) # LSTM과 궁합 별로임\n",
        " \n",
        "train = optimizer.minimize(loss)\n",
        "\n",
        "# RMSE(Root Mean Square Error)\n",
        "# 제곱오차의 평균을 구하고 다시 제곱근을 구하면 평균 오차가 나온다\n",
        "# rmse = tf.sqrt(tf.reduce_mean(tf.square(targets-predictions))) # 아래 코드와 같다\n",
        "rmse = tf.sqrt(tf.reduce_mean(tf.squared_difference(targets, predictions)))\n",
        "\n",
        "train_error_summary = [] # 학습용 데이터의 오류를 중간 중간 기록한다\n",
        "test_error_summary = []  # 테스트용 데이터의 오류를 중간 중간 기록한다\n",
        "test_predict = ''        # 테스트용데이터로 예측한 결과\n",
        " \n",
        "sess = tf.Session()\n",
        "sess.run(tf.global_variables_initializer())\n",
        "\n",
        "import datetime\n",
        "\n",
        "# 학습한다\n",
        "start_time = datetime.datetime.now() # 시작시간을 기록한다\n",
        "print('학습을 시작합니다...')\n",
        "for epoch in range(1000):\n",
        "    _, _loss = sess.run([train, loss], feed_dict={X: trainX, Y: trainY})\n",
        "    if ((epoch+1) % 100 == 0) or (epoch == epoch_num-1): # 100번째마다 또는 마지막 epoch인 경우\n",
        "        # 학습용데이터로 rmse오차를 구한다\n",
        "        train_predict = sess.run(hypothesis, feed_dict={X: trainX})\n",
        "        train_error = sess.run(rmse, feed_dict={targets: trainY, predictions: train_predict})\n",
        "        train_error_summary.append(train_error)\n",
        " \n",
        "        # 테스트용데이터로 rmse오차를 구한다\n",
        "        test_predict = sess.run(hypothesis, feed_dict={X: testX})\n",
        "        test_error = sess.run(rmse, feed_dict={targets: testY, predictions: test_predict})\n",
        "        test_error_summary.append(test_error)\n",
        "        \n",
        "        # 현재 오류를 출력한다\n",
        "        print(\"epoch: {}, train_error(A): {}, test_error(B): {}, B-A: {}\".format(epoch+1, train_error, test_error, test_error-train_error))\n",
        "        \n",
        "end_time = datetime.datetime.now() # 종료시간을 기록한다\n",
        "elapsed_time = end_time - start_time # 경과시간을 구한다\n",
        "print('elapsed_time:',elapsed_time)\n",
        "print('elapsed_time per epoch:',elapsed_time/epoch_num)\n",
        "\n",
        "# 결과 그래프 출력\n",
        "plt.figure(1)\n",
        "plt.plot(train_error_summary, 'gold')\n",
        "plt.plot(test_error_summary, 'b')\n",
        "plt.xlabel('Epoch(x100)')\n",
        "plt.ylabel('Root Mean Square Error')\n",
        " \n",
        "plt.figure(2)\n",
        "plt.plot(testY, 'r', label='testY')\n",
        "plt.plot(test_predict, 'b', label='test_predict')\n",
        "plt.legend()\n",
        "plt.xlabel('Time Period')\n",
        "plt.ylabel('Stock Price')\n",
        "plt.show()"
      ],
      "execution_count": null,
      "outputs": [
        {
          "output_type": "stream",
          "text": [
            "[0.8705346719589073 0.6503412778430183 0.080393296423856\n",
            " 0.007153327363744189 0.0]\n",
            "--\n",
            "[0.8705346719589073]\n",
            "--\n",
            "[[0.8705346719589073 0.6503412778430183 0.080393296423856\n",
            "  0.007153327363744189 0.0]\n",
            " [0.8395984123278076 0.6795757942192052 0.080393296423856\n",
            "  0.2057287237230281 0.0005017529700052872]\n",
            " [0.08829480893454744 0.708927248660897 0.0 0.6036738180270458\n",
            "  0.0015087731898267994]] -> [0.11230445949101098]\n",
            " -- \n",
            "X:  Tensor(\"Placeholder:0\", shape=(?, 3, 5), dtype=float32)\n",
            "Y:  Tensor(\"Placeholder_1:0\", shape=(?, 1), dtype=float32)\n",
            "targets:  Tensor(\"Placeholder_2:0\", shape=(?, 1), dtype=float32)\n",
            "predictions:  Tensor(\"Placeholder_3:0\", shape=(?, 1), dtype=float32)\n",
            "WARNING:tensorflow:\n",
            "The TensorFlow contrib module will not be included in TensorFlow 2.0.\n",
            "For more information, please see:\n",
            "  * https://github.com/tensorflow/community/blob/master/rfcs/20180907-contrib-sunset.md\n",
            "  * https://github.com/tensorflow/addons\n",
            "  * https://github.com/tensorflow/io (for I/O related ops)\n",
            "If you depend on functionality not listed there, please file an issue.\n",
            "\n",
            "WARNING:tensorflow:From <ipython-input-1-4e05fa366e52>:152: BasicLSTMCell.__init__ (from tensorflow.python.ops.rnn_cell_impl) is deprecated and will be removed in a future version.\n",
            "Instructions for updating:\n",
            "This class is equivalent as tf.keras.layers.LSTMCell, and will be replaced by that in Tensorflow 2.0.\n",
            "WARNING:tensorflow:From <ipython-input-1-4e05fa366e52>:162: dynamic_rnn (from tensorflow.python.ops.rnn) is deprecated and will be removed in a future version.\n",
            "Instructions for updating:\n",
            "Please use `keras.layers.RNN(cell)`, which is equivalent to this API\n",
            "WARNING:tensorflow:From /usr/local/lib/python3.6/dist-packages/tensorflow_core/python/ops/rnn_cell_impl.py:735: Layer.add_variable (from tensorflow.python.keras.engine.base_layer) is deprecated and will be removed in a future version.\n",
            "Instructions for updating:\n",
            "Please use `layer.add_weight` method instead.\n",
            "WARNING:tensorflow:From /usr/local/lib/python3.6/dist-packages/tensorflow_core/python/ops/rnn_cell_impl.py:739: calling Zeros.__init__ (from tensorflow.python.ops.init_ops) with dtype is deprecated and will be removed in a future version.\n",
            "Instructions for updating:\n",
            "Call initializer instance with the dtype argument instead of passing it to the constructor\n",
            "hypothesis:  Tensor(\"rnn/transpose_1:0\", shape=(?, 3, 8), dtype=float32)\n",
            "WARNING:tensorflow:From /usr/local/lib/python3.6/dist-packages/tensorflow_core/contrib/layers/python/layers/layers.py:1866: Layer.apply (from tensorflow.python.keras.engine.base_layer) is deprecated and will be removed in a future version.\n",
            "Instructions for updating:\n",
            "Please use `layer.__call__` method instead.\n",
            "학습을 시작합니다...\n",
            "epoch: 100, train_error(A): 0.16310887038707733, test_error(B): 0.3356519043445587, B-A: 0.17254303395748138\n",
            "epoch: 200, train_error(A): 0.0026552786584943533, test_error(B): 0.8363850116729736, B-A: 0.8337297439575195\n",
            "epoch: 300, train_error(A): 1.2632993275474291e-05, test_error(B): 0.840247392654419, B-A: 0.8402347564697266\n",
            "epoch: 400, train_error(A): 3.0290374297692324e-07, test_error(B): 0.84023118019104, B-A: 0.8402308821678162\n",
            "epoch: 500, train_error(A): 2.881907903429237e-07, test_error(B): 0.8402311205863953, B-A: 0.8402308225631714\n",
            "epoch: 600, train_error(A): 4.613046655776998e-07, test_error(B): 0.84023118019104, B-A: 0.8402307033538818\n",
            "epoch: 700, train_error(A): 0.0025232494808733463, test_error(B): 0.8387684226036072, B-A: 0.8362451791763306\n",
            "epoch: 800, train_error(A): 1.468627715439652e-06, test_error(B): 0.8391343355178833, B-A: 0.8391328454017639\n",
            "epoch: 900, train_error(A): 6.643143990459066e-08, test_error(B): 0.8391329646110535, B-A: 0.8391329050064087\n",
            "epoch: 1000, train_error(A): 0.0003080179449170828, test_error(B): 0.8390665650367737, B-A: 0.8387585282325745\n",
            "elapsed_time: 0:00:03.933055\n",
            "elapsed_time per epoch: 0:00:00.003933\n"
          ],
          "name": "stdout"
        },
        {
          "output_type": "display_data",
          "data": {
            "image/png": "[encoded data removed]",
            "text/plain": [
              "<Figure size 432x288 with 1 Axes>"
            ]
          },
          "metadata": {
            "tags": [],
            "needs_background": "light"
          }
        },
        {
          "output_type": "display_data",
          "data": {
            "image/png": "[encoded data removed]",
            "text/plain": [
              "<Figure size 432x288 with 1 Axes>"
            ]
          },
          "metadata": {
            "tags": [],
            "needs_background": "light"
          }
        }
      ]
    },
    {
      "cell_type": "code",
      "metadata": {
        "id": "yOlz--JlaR-L",
        "colab_type": "code",
        "colab": {
          "base_uri": "https://localhost:8080/",
          "height": 357
        },
        "outputId": "510a6a81-415c-4961-c242-f0e6eb186316"
      },
      "source": [
        "x"
      ],
      "execution_count": null,
      "outputs": [
        {
          "output_type": "execute_result",
          "data": {
            "text/plain": [
              "array([[0.8705346719589073, 0.080393296423856, 0.007153327363744189, 0.0],\n",
              "       [0.8395984123278076, 0.080393296423856, 0.2057287237230281,\n",
              "        0.0005017529700052872],\n",
              "       [0.08829480893454744, 0.0, 0.6036738180270458,\n",
              "        0.0015087731898267994],\n",
              "       [0.11230445949101098, 0.0, 0.8034422553676581,\n",
              "        0.0035218126332991736],\n",
              "       [0.875048641917659, 0.040035861619080806, 0.20293833272177292,\n",
              "        0.007557952695404454],\n",
              "       [1.0, 0.1804416283171954, 0.40190529909177763,\n",
              "        0.015642341239801332],\n",
              "       [0.6707136742158923, 0.48341721488505573, 1.0,\n",
              "        0.03193223907301847],\n",
              "       [0.589578955560744, 0.708932043153732, 1.0, 0.0645289058427587],\n",
              "       [0.711067009105767, 0.9162006716806718, 0.7994389102954396,\n",
              "        0.12806435020618417],\n",
              "       [0.4854463382364386, 0.9371348031618929, 0.1989590077199942,\n",
              "        0.25367392371267633],\n",
              "       [0.611604015876722, 0.9371348031618929, 0.0, 0.5040374599665146],\n",
              "       [0.0, 1.0, 0.19856108970455358, 1.0]], dtype=object)"
            ]
          },
          "metadata": {
            "tags": []
          },
          "execution_count": 3
        }
      ]
    },
    {
      "cell_type": "code",
      "metadata": {
        "id": "NqxMPX0cYz5R",
        "colab_type": "code",
        "colab": {
          "base_uri": "https://localhost:8080/",
          "height": 136
        },
        "outputId": "afc1b443-4503-4eab-f422-eba13450095f"
      },
      "source": [
        "# sequence length만큼의 가장 최근 데이터를 슬라이싱한다\n",
        "recent_data = np.array([x[len(x)-seq_length : ]])\n",
        "print(\"recent_data.shape:\", recent_data.shape)\n",
        "print(\"recent_data:\", recent_data)\n",
        "\n",
        "test_predict = sess.run(hypothesis, feed_dict={X: recent_data})\n",
        "print(\"test_predict\", test_predict[0])\n",
        "test_predict=reverse_data_standardization(price,test_predict)\n",
        "print(\"test_predict(역정규화)\", test_predict[0])\n",
        "print(\"원래의 데이터: \",price[-1])"
      ],
      "execution_count": null,
      "outputs": [
        {
          "output_type": "stream",
          "text": [
            "recent_data.shape: (1, 3, 2)\n",
            "recent_data: [[[0.4356139826710487 0.25367392371267633]\n",
            "  [0.5739895001920696 0.5040374599665146]\n",
            "  [0.7683213111955269 1.0]]]\n",
            "test_predict [1.5471048]\n",
            "test_predict(역정규화) [925183.6]\n",
            "원래의 데이터:  [854370]\n"
          ],
          "name": "stdout"
        }
      ]
    },
    {
      "cell_type": "code",
      "metadata": {
        "id": "BtjWlQYOxjwT",
        "colab_type": "code",
        "colab": {
          "base_uri": "https://localhost:8080/",
          "height": 221
        },
        "outputId": "d4865e03-4a0b-4a15-a422-e4af5aed4fed"
      },
      "source": [
        "card=pd.read_csv('/content/drive/My Drive/카드경제지표.csv', encoding='UTF-8')\n",
        "card_np=card.values\n",
        "x=card_np[:,[1,2,3,4,5]]\n",
        "x"
      ],
      "execution_count": null,
      "outputs": [
        {
          "output_type": "execute_result",
          "data": {
            "text/plain": [
              "array([[875380, 0.4, 0.6, -0.3, 99.9],\n",
              "       [867430, 0.4, 0.0, 0.2, 99.9],\n",
              "       [674360, 0.4, -0.4, 0.4, 100.3],\n",
              "       [680530, 1.3, 0.0, 0.2, 100.1],\n",
              "       [876540, 1.3, 0.2, -0.6, 100.3],\n",
              "       [908650, 1.3, 0.7, 0.2, 100.3],\n",
              "       [643280, -1.3, 1.5, 0.6, 100.9],\n",
              "       [754330, -1.3, 1.1, 0.0, 100.5],\n",
              "       [834400, -1.3, 1.0, -0.2, 97.7],\n",
              "       [776420, -3.3, 0.1, -0.6, 97.7],\n",
              "       [808840, -3.3, 0.0, -0.2, 98.5],\n",
              "       [651670, -3.3, 0.3, 0.2, 98.3]], dtype=object)"
            ]
          },
          "metadata": {
            "tags": []
          },
          "execution_count": 4
        }
      ]
    },
    {
      "cell_type": "code",
      "metadata": {
        "id": "bBIk8InkpC6d",
        "colab_type": "code",
        "colab": {}
      },
      "source": [
        "def data_change(x):\n",
        "  x_data=[]\n",
        "\n",
        "  for i in range(len(x[:])):\n",
        "\n",
        "    if(i==0):\n",
        "      init=100+100*x[i]/100\n",
        "      x_data.append([init[0]])\n",
        "      \n",
        "    else:\n",
        "      init=init+init*x[i]/100\n",
        "      x_data.append([init[0]])\n",
        "    \n",
        "  return x_data"
      ],
      "execution_count": null,
      "outputs": []
    },
    {
      "cell_type": "code",
      "metadata": {
        "id": "B_HgvgKUzVJO",
        "colab_type": "code",
        "colab": {}
      },
      "source": [
        "x_1=data_change(x[:,[1]])\n",
        "x_1"
      ],
      "execution_count": null,
      "outputs": []
    },
    {
      "cell_type": "code",
      "metadata": {
        "id": "mSTon_aFhGUx",
        "colab_type": "code",
        "colab": {}
      },
      "source": [
        "x_2=data_change(x[:,[2]])\n",
        "x_2"
      ],
      "execution_count": null,
      "outputs": []
    },
    {
      "cell_type": "code",
      "metadata": {
        "id": "uutv5BSDhRNx",
        "colab_type": "code",
        "colab": {}
      },
      "source": [
        "x_3=data_change(x[:,[3]])\n",
        "x_3"
      ],
      "execution_count": null,
      "outputs": []
    },
    {
      "cell_type": "code",
      "metadata": {
        "id": "JH5yKcA7hUd7",
        "colab_type": "code",
        "colab": {}
      },
      "source": [
        "x_4=data_change(x[:,[4]])\n",
        "x_4"
      ],
      "execution_count": null,
      "outputs": []
    },
    {
      "cell_type": "code",
      "metadata": {
        "id": "jABiDbs5gT3m",
        "colab_type": "code",
        "colab": {}
      },
      "source": [
        "x = np.concatenate((x,x_1,x_2,x_3,x_4), axis=1) "
      ],
      "execution_count": null,
      "outputs": []
    },
    {
      "cell_type": "code",
      "metadata": {
        "id": "AGOMr795gxDk",
        "colab_type": "code",
        "colab": {}
      },
      "source": [
        "x[:,[0,5,6,7,8]]"
      ],
      "execution_count": null,
      "outputs": []
    },
    {
      "cell_type": "code",
      "metadata": {
        "id": "vtea4C5XhZzf",
        "colab_type": "code",
        "colab": {}
      },
      "source": [
        "import pandas as pd\n",
        "import tensorflow as tf\n",
        "import numpy as np\n",
        "import matplotlib\n",
        "import os\n",
        "import csv\n",
        "import matplotlib.pyplot as plt\n",
        "\n",
        "# 랜덤에 의해 똑같은 결과를 재현하도록 시드 설정\n",
        "# 하이퍼파라미터를 튜닝하기 위한 용도(흔들리면 무엇때문에 좋아졌는지 알기 어려움)\n",
        "tf.set_random_seed(777)\n",
        "\n",
        "# 하이퍼파라미터\n",
        "input_data_column_cnt = 5  # 입력데이터의 컬럼 개수(Variable 개수)\n",
        "output_data_column_cnt = 1 # 결과데이터의 컬럼 개수\n",
        "\n",
        "seq_length=3           # 1개의 시퀀스의 길이(시게열데이터 입력 개수)\n",
        "rnn_cell_hidden_dim=10 # 각 셀의 출력 크기\n",
        "forget_bias=1.0        # 망각편향(기본값 1.0)\n",
        "num_stacked_layers=1   # LSTM 개수\n",
        "keep_prob=1.0          # dropout할 때 keep할 비율\n",
        "\n",
        "epoch_num=1000     # 에폭 횟수(학습용 전체 데이터를 몇 회 반복해서 학습할 것인가 입력))\n",
        "learning_rate=0.01\n",
        "\n",
        "\n",
        "def data_change(x):\n",
        "  x_data=[]\n",
        "\n",
        "  for i in range(len(x[:])):\n",
        "\n",
        "    if(i==0):\n",
        "      init=100+100*x[i]/100\n",
        "      x_data.append([init[0]])\n",
        "      \n",
        "    else:\n",
        "      init=init+init*x[i]/100\n",
        "      x_data.append([init[0]])\n",
        "    \n",
        "  return x_data\n",
        "\n",
        "\n",
        "# Standardization\n",
        "def data_standardization(x):\n",
        "    x_np = np.asarray(x)\n",
        "    return (x_np - x_np.mean()) / x_np.std()\n",
        "\n",
        "def reverse_data_standardization(org_x, x):\n",
        "    org_x_np = np.asarray(org_x)\n",
        "    x_np = np.asarray(x)\n",
        "    return ((x_np * org_x_np.std()) + org_x_np.mean())\n",
        "\n",
        "# 너무 작거나 너무 큰 값이 학습을 방해하는 것을 방지하고자 정규화한다\n",
        "# x가 양수라는 가정하에 최소값과 최대값을 이용하여 0~1사이의 값으로 변환\n",
        "# Min-Max scaling\n",
        "def min_max_scaling(x):\n",
        "    x_np = np.asarray(x)\n",
        "    return (x_np - x_np.min()) / (x_np.max() - x_np.min() + 1e-7) # 1e-7은 0으로 나누는 오류 예방차원\n",
        "\n",
        "# 정규화된 값을 원래의 값으로 되돌린다\n",
        "# 정규화하기 이전의 org_x값과 되돌리고 싶은 x를 입력하면 역정규화된 값을 리턴한다\n",
        "def reverse_min_max_scaling(org_x, x):\n",
        "    org_x_np = np.asarray(org_x)\n",
        "    x_np = np.asarray(x)\n",
        "    return (x_np * (org_x_np.max() - org_x_np.min() + 1e-7)) + org_x_np.min()\n",
        "\n",
        "\n",
        "card=pd.read_csv('/content/drive/My Drive/카드경제지표.csv', encoding='UTF-8')\n",
        "card_np=card.values\n",
        "x=card_np[:,[1,2,3,4,5]]\n",
        "y=card_np[:,[1]]\n",
        "price=card_np[:,[1]]\n",
        "\n",
        "#x=min_max_scaling(x)\n",
        "#y=min_max_scaling(y)\n",
        "\n",
        "x_1=data_change(x[:,[1]])\n",
        "x_2=data_change(x[:,[2]])\n",
        "x_3=data_change(x[:,[3]])\n",
        "x_4=x[:,[4]]\n",
        "x = np.concatenate((x,x_1,x_2,x_3,x_4), axis=1) \n",
        "\n",
        "x=x[:,[0,5,6,7,8]]"
      ],
      "execution_count": null,
      "outputs": []
    },
    {
      "cell_type": "code",
      "metadata": {
        "id": "NHrtM_IEmqJj",
        "colab_type": "code",
        "colab": {
          "base_uri": "https://localhost:8080/",
          "height": 340
        },
        "outputId": "cac014e9-00bc-4f5b-b4bd-ad960bba7686"
      },
      "source": [
        "x"
      ],
      "execution_count": null,
      "outputs": [
        {
          "output_type": "execute_result",
          "data": {
            "text/plain": [
              "array([[875380, 100.4, 100.6, 99.7, 99.9],\n",
              "       [867430, 100.80160000000001, 100.6, 99.8994, 99.9],\n",
              "       [674360, 101.20480640000001, 100.1976, 100.2989976, 100.3],\n",
              "       [680530, 102.52046888320001, 100.1976, 100.4995955952, 100.1],\n",
              "       [876540, 103.85323497868161, 100.3979952, 99.8965980216288, 100.3],\n",
              "       [908650, 105.20332703340448, 101.1007811664, 100.09639121767206,\n",
              "        100.3],\n",
              "       [643280, 103.83568378197022, 102.617292883896, 100.69696956497809,\n",
              "        100.9],\n",
              "       [754330, 102.4858198928046, 103.74608310561885,\n",
              "        100.69696956497809, 100.5],\n",
              "       [834400, 101.15350423419814, 104.78354393667504,\n",
              "        100.49557562584813, 97.7],\n",
              "       [776420, 97.8154385944696, 104.88832748061172, 99.89260217209305,\n",
              "        97.7],\n",
              "       [808840, 94.5875291208521, 104.88832748061172, 99.69281696774887,\n",
              "        98.5],\n",
              "       [651670, 91.46614065986398, 105.20299246305356, 99.89220260168436,\n",
              "        98.3]], dtype=object)"
            ]
          },
          "metadata": {
            "tags": []
          },
          "execution_count": 2
        }
      ]
    },
    {
      "cell_type": "code",
      "metadata": {
        "id": "R6jDpgfJlsAD",
        "colab_type": "code",
        "colab": {
          "base_uri": "https://localhost:8080/",
          "height": 221
        },
        "outputId": "2365d2ba-3030-4999-c2b0-5a0ac80a4584"
      },
      "source": [
        "x_1=min_max_scaling(x[:,[1]])\n",
        "x_1"
      ],
      "execution_count": null,
      "outputs": [
        {
          "output_type": "execute_result",
          "data": {
            "text/plain": [
              "array([[0.6503412731088518],\n",
              "       [0.6795757892722258],\n",
              "       [0.7089272435002533],\n",
              "       [0.8047010386463065],\n",
              "       [0.9017198931292585],\n",
              "       [0.999999992720489],\n",
              "       [0.9004422518345727],\n",
              "       [0.802178761580173],\n",
              "       [0.7051926966990807],\n",
              "       [0.46219784137276887],\n",
              "       [0.22722181627222515],\n",
              "       [0.0]], dtype=object)"
            ]
          },
          "metadata": {
            "tags": []
          },
          "execution_count": 3
        }
      ]
    },
    {
      "cell_type": "code",
      "metadata": {
        "id": "xqYh7hD5lvbL",
        "colab_type": "code",
        "colab": {
          "base_uri": "https://localhost:8080/",
          "height": 221
        },
        "outputId": "e12091e4-dfb4-4104-ba7c-e0b42b760d9b"
      },
      "source": [
        "x_2=min_max_scaling(x[:,[2]])\n",
        "x_2"
      ],
      "execution_count": null,
      "outputs": [
        {
          "output_type": "execute_result",
          "data": {
            "text/plain": [
              "array([[0.0803932948177223],\n",
              "       [0.0803932948177223],\n",
              "       [0.0],\n",
              "       [0.0],\n",
              "       [0.04003586081922622],\n",
              "       [0.1804416247122508],\n",
              "       [0.4834172052271276],\n",
              "       [0.7089320289903664],\n",
              "       [0.9162006533763997],\n",
              "       [0.9371347844393892],\n",
              "       [0.9371347844393892],\n",
              "       [0.999999980021547]], dtype=object)"
            ]
          },
          "metadata": {
            "tags": []
          },
          "execution_count": 4
        }
      ]
    },
    {
      "cell_type": "code",
      "metadata": {
        "id": "C4ZX1_mXnLUB",
        "colab_type": "code",
        "colab": {}
      },
      "source": [
        "def MinMaxScaler(data):\n",
        "  #데이터 모든 숫자들의 최소 값만큼 뺀다.\n",
        "  numerator=data-np.min(data,0)\n",
        "  #최대값과 최소 값의 차이를 구한다.\n",
        "  denominator=np.max(data,0)-np.min(data,0)\n",
        "  result=numerator/(denominator)\n",
        "  return result"
      ],
      "execution_count": null,
      "outputs": []
    },
    {
      "cell_type": "code",
      "metadata": {
        "id": "prDWx7b2XppJ",
        "colab_type": "code",
        "colab": {
          "base_uri": "https://localhost:8080/",
          "height": 221
        },
        "outputId": "91940b5a-e6c0-4d03-c7fa-013a92c29ddb"
      },
      "source": [
        "x=MinMaxScaler(x)\n",
        "x[:,[0]]"
      ],
      "execution_count": null,
      "outputs": [
        {
          "output_type": "execute_result",
          "data": {
            "text/plain": [
              "array([[0.8746278780570524],\n",
              "       [0.8446697064476014],\n",
              "       [0.11711949353732524],\n",
              "       [0.1403700493650375],\n",
              "       [0.8789991332856012],\n",
              "       [1.0],\n",
              "       [0.0],\n",
              "       [0.41847232166409165],\n",
              "       [0.7202019821381468],\n",
              "       [0.5017145871801636],\n",
              "       [0.6238836341711572],\n",
              "       [0.0316162339375212]], dtype=object)"
            ]
          },
          "metadata": {
            "tags": []
          },
          "execution_count": 7
        }
      ]
    },
    {
      "cell_type": "code",
      "metadata": {
        "id": "Sh9QvCDvXsmM",
        "colab_type": "code",
        "colab": {
          "base_uri": "https://localhost:8080/",
          "height": 221
        },
        "outputId": "179d6473-2dfd-442e-ecf9-73f4822b4699"
      },
      "source": [
        "x[:,[1]]"
      ],
      "execution_count": null,
      "outputs": [
        {
          "output_type": "execute_result",
          "data": {
            "text/plain": [
              "array([[0.6503412778430183],\n",
              "       [0.6795757942192052],\n",
              "       [0.708927248660897],\n",
              "       [0.8047010445041366],\n",
              "       [0.9017198996933384],\n",
              "       [1.0],\n",
              "       [0.900442258389352],\n",
              "       [0.8021787674196421],\n",
              "       [0.7051927018325387],\n",
              "       [0.46219784473734316],\n",
              "       [0.22722181792628884],\n",
              "       [0.0]], dtype=object)"
            ]
          },
          "metadata": {
            "tags": []
          },
          "execution_count": 8
        }
      ]
    },
    {
      "cell_type": "code",
      "metadata": {
        "id": "5JPUzGlsXx-R",
        "colab_type": "code",
        "colab": {
          "base_uri": "https://localhost:8080/",
          "height": 221
        },
        "outputId": "dffb1b3c-4acc-4fae-f0de-0512e3fdf19f"
      },
      "source": [
        "x[:,[2]]"
      ],
      "execution_count": null,
      "outputs": [
        {
          "output_type": "execute_result",
          "data": {
            "text/plain": [
              "array([[0.080393296423856],\n",
              "       [0.080393296423856],\n",
              "       [0.0],\n",
              "       [0.0],\n",
              "       [0.040035861619080806],\n",
              "       [0.1804416283171954],\n",
              "       [0.48341721488505573],\n",
              "       [0.708932043153732],\n",
              "       [0.9162006716806718],\n",
              "       [0.9371348031618929],\n",
              "       [0.9371348031618929],\n",
              "       [1.0]], dtype=object)"
            ]
          },
          "metadata": {
            "tags": []
          },
          "execution_count": 9
        }
      ]
    },
    {
      "cell_type": "code",
      "metadata": {
        "id": "UpNEzuXkX0di",
        "colab_type": "code",
        "colab": {}
      },
      "source": [
        "import numpy as np"
      ],
      "execution_count": null,
      "outputs": []
    },
    {
      "cell_type": "code",
      "metadata": {
        "id": "8_2aQcdbH2Gb",
        "colab_type": "code",
        "colab": {
          "base_uri": "https://localhost:8080/",
          "height": 34
        },
        "outputId": "e10447db-e334-468b-d453-e290f8a70326"
      },
      "source": [
        "a=np.array([1,2,3])\n",
        "a[0]"
      ],
      "execution_count": null,
      "outputs": [
        {
          "output_type": "execute_result",
          "data": {
            "text/plain": [
              "1"
            ]
          },
          "metadata": {
            "tags": []
          },
          "execution_count": 11
        }
      ]
    },
    {
      "cell_type": "code",
      "metadata": {
        "id": "6YDHiTE6H4lV",
        "colab_type": "code",
        "colab": {
          "base_uri": "https://localhost:8080/",
          "height": 34
        },
        "outputId": "eab2c33d-eb0a-4730-e20b-fe382bfb669b"
      },
      "source": [
        "a."
      ],
      "execution_count": null,
      "outputs": [
        {
          "output_type": "execute_result",
          "data": {
            "text/plain": [
              "array([1, 2, 3])"
            ]
          },
          "metadata": {
            "tags": []
          },
          "execution_count": 12
        }
      ]
    },
    {
      "cell_type": "code",
      "metadata": {
        "id": "bOrdtmrbIFJT",
        "colab_type": "code",
        "colab": {}
      },
      "source": [
        ""
      ],
      "execution_count": null,
      "outputs": []
    }
  ]
}